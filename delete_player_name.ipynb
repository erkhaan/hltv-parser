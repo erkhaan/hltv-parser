{
 "cells": [
  {
   "cell_type": "code",
   "execution_count": 8,
   "metadata": {},
   "outputs": [],
   "source": [
    "import os\n",
    "import shutil\n",
    "\n",
    "player = ''\n",
    "\n",
    "path = ''\n",
    "\n",
    "#target_path = '/Volumes/WD Elements/Videos/Highlights'\n",
    "target_path = ''\n",
    "\n",
    "files = os.listdir(path)\n",
    "for file in files:\n",
    "    newfile = file.replace(player + ' - ','').replace(player+' ','').replace(player+\"'s - \",'').replace(player+\"'s'\",'')\n",
    "    os.rename(os.path.join(path,file),os.path.join(path,newfile))\n",
    "files = os.listdir(path)\n",
    "\n",
    "target_dir = target_path+'/'+player+'/'\n",
    "os.makedirs(os.path.dirname(target_dir), exist_ok=True)\n",
    "file_names = os.listdir(path)\n",
    "    \n",
    "for file_name in file_names:\n",
    "    shutil.move(os.path.join(path, file_name), target_dir)"
   ]
  },
  {
   "cell_type": "code",
   "execution_count": null,
   "metadata": {},
   "outputs": [],
   "source": []
  }
 ],
 "metadata": {
  "kernelspec": {
   "display_name": "Python 3",
   "language": "python",
   "name": "python3"
  },
  "language_info": {
   "codemirror_mode": {
    "name": "ipython",
    "version": 3
   },
   "file_extension": ".py",
   "mimetype": "text/x-python",
   "name": "python",
   "nbconvert_exporter": "python",
   "pygments_lexer": "ipython3",
   "version": "3.7.3"
  }
 },
 "nbformat": 4,
 "nbformat_minor": 4
}
