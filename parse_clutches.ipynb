{
 "cells": [
  {
   "cell_type": "code",
   "execution_count": 4,
   "metadata": {},
   "outputs": [],
   "source": [
    "from selenium import webdriver\n",
    "from selenium.webdriver.common.keys import Keys\n",
    "from selenium.webdriver.common.by import By\n",
    "import pandas as pd\n",
    "import csv\n",
    "import os"
   ]
  },
  {
   "cell_type": "code",
   "execution_count": 5,
   "metadata": {},
   "outputs": [],
   "source": [
    "#playerName = 'REZ'"
   ]
  },
  {
   "cell_type": "code",
   "execution_count": 6,
   "metadata": {
    "scrolled": false
   },
   "outputs": [],
   "source": [
    "df = pd.read_csv('./data/matches_'+date_start+'-'+date_end+'.csv')\n",
    "matchList = df['links']\n",
    "os.remove('./data/matches_'+date_start+'-'+date_end+'.csv') \n",
    "#disable images\n",
    "option = webdriver.ChromeOptions()\n",
    "chrome_prefs = {}\n",
    "option.experimental_options[\"prefs\"] = chrome_prefs\n",
    "chrome_prefs[\"profile.default_content_settings\"] = {\"images\": 2}\n",
    "chrome_prefs[\"profile.managed_default_content_settings\"] = {\"images\": 2}\n",
    "\n",
    "driver = webdriver.Chrome(options=option)\n",
    "driver.get('https://www.hltv.org')\n",
    "driver.implicitly_wait(15)\n",
    "accept = driver.find_element_by_link_text('Allow selection')\n",
    "accept.send_keys(Keys.RETURN)\n",
    "driver.implicitly_wait(0)"
   ]
  },
  {
   "cell_type": "code",
   "execution_count": 7,
   "metadata": {},
   "outputs": [],
   "source": [
    "hlLink = []\n",
    "for matchLink in matchList:\n",
    "    driver.get(matchLink)\n",
    "    highlightBoxes = driver.find_elements_by_class_name('highlight.padding.standard-box')\n",
    "    for i in highlightBoxes:\n",
    "        if ('1vs2' in i.text or '1vs3' in i.text or '1vs4' in i.text or '1vs5' in i.text or 'clutch' in i.text): \n",
    "            hlLink.append(i.get_attribute('data-highlight-embed'))\n",
    "driver.close()"
   ]
  },
  {
   "cell_type": "code",
   "execution_count": 8,
   "metadata": {},
   "outputs": [],
   "source": [
    "cleanLink = []\n",
    "\n",
    "for link in hlLink:\n",
    "    cleanLink.append(link.replace('embed?clip=','').replace('&autoplay=true&parent=www.hltv.org',''))\n",
    "\n",
    "filename = './data/highlights_'+date_start+'-'+date_end+'.txt'\n",
    "with open(filename, 'a', newline='') as myfile:\n",
    "    for link in cleanLink:\n",
    "        print(link,file=myfile)"
   ]
  }
 ],
 "metadata": {
  "kernelspec": {
   "display_name": "Python 3",
   "language": "python",
   "name": "python3"
  },
  "language_info": {
   "codemirror_mode": {
    "name": "ipython",
    "version": 3
   },
   "file_extension": ".py",
   "mimetype": "text/x-python",
   "name": "python",
   "nbconvert_exporter": "python",
   "pygments_lexer": "ipython3",
   "version": "3.7.3"
  }
 },
 "nbformat": 4,
 "nbformat_minor": 2
}
