{
 "cells": [
  {
   "cell_type": "code",
   "execution_count": 152,
   "metadata": {},
   "outputs": [],
   "source": [
    "from selenium import webdriver\n",
    "from selenium.webdriver.common.keys import Keys\n",
    "from selenium.webdriver.common.by import By\n",
    "from selenium.common.exceptions import NoSuchElementException\n",
    "import pandas as pd\n",
    "import csv\n",
    "import os"
   ]
  },
  {
   "cell_type": "code",
   "execution_count": 153,
   "metadata": {},
   "outputs": [],
   "source": [
    "dateStart = '2020-01-01'\n",
    "dateEnd   = '2020-12-31'"
   ]
  },
  {
   "cell_type": "code",
   "execution_count": 154,
   "metadata": {},
   "outputs": [],
   "source": [
    "#disable images\n",
    "option = webdriver.ChromeOptions()\n",
    "chrome_prefs = {}\n",
    "option.experimental_options[\"prefs\"] = chrome_prefs\n",
    "chrome_prefs[\"profile.default_content_settings\"] = {\"images\": 2}\n",
    "chrome_prefs[\"profile.managed_default_content_settings\"] = {\"images\": 2}\n",
    "driver = webdriver.Chrome(options=option)"
   ]
  },
  {
   "cell_type": "code",
   "execution_count": 155,
   "metadata": {},
   "outputs": [],
   "source": [
    "driver.get('https://www.hltv.org')\n",
    "driver.implicitly_wait(15)\n",
    "accept = driver.find_element_by_link_text('Allow selection')\n",
    "accept.send_keys(Keys.RETURN)\n",
    "driver.implicitly_wait(0)"
   ]
  },
  {
   "cell_type": "code",
   "execution_count": 156,
   "metadata": {},
   "outputs": [
    {
     "name": "stdout",
     "output_type": "stream",
     "text": [
      "not found\n",
      "not found\n",
      "20097   h4rn   91\n"
     ]
    }
   ],
   "source": [
    "id_start = 20000\n",
    "id_end = 25000\n",
    "\n",
    "for id_int in range(id_start-1,id_end):\n",
    "    playerID = str(id_int+1)\n",
    "    isEmpty = 0\n",
    "    isError = 0\n",
    "    matchesLinks = []\n",
    "    for offset in ['0','100','200']:\n",
    "        link = 'https://www.hltv.org/results?content=highlights&'+'player='+playerID+'&startDate='+dateStart+'&endDate='+dateEnd+'&offset='+offset\n",
    "        driver.get(link)\n",
    "        try:\n",
    "            driver.find_element_by_class_name('error-body')\n",
    "            isError = 1\n",
    "            break\n",
    "        except NoSuchElementException:\n",
    "            True\n",
    "        elemPag = driver.find_element_by_class_name('pagination-data')\n",
    "        text = elemPag.text\n",
    "        a = [int(s) for s in text.split() if s.isdigit()]\n",
    "        if(a[2] < 40):\n",
    "            isEmpty = 1\n",
    "            break\n",
    "        try:\n",
    "            driver.find_elements_by_xpath(\"//*[contains(text(), 'My Button')]\")\n",
    "            elem = driver.find_element_by_css_selector(\"div.results-all:not(.results-holder)\")\n",
    "            hrefs = elem.find_elements_by_class_name('a-reset')\n",
    "            for href in hrefs:\n",
    "                matchesLinks.append(href.get_attribute('href'))\n",
    "        except NoSuchElementException:\n",
    "            print('not found')\n",
    "    if isEmpty == 1 or isError == 1:\n",
    "        continue\n",
    "    playerLink = '/player/'+playerID+'/'\n",
    "    playerName = driver.find_element_by_xpath('//a[contains(@href, \"%s\")]' % playerLink).text\n",
    "    print(playerID,' ',playerName,' ', a[2])\n",
    "    filename = './data/player_parse/matches_' + playerName + '.csv'\n",
    "    with open(filename, 'a', newline='') as myfile:\n",
    "        wr = csv.writer(myfile)\n",
    "        wr.writerow(['links'])\n",
    "        for link in matchesLinks:\n",
    "            wr.writerow([link])\n",
    "driver.close()"
   ]
  },
  {
   "cell_type": "code",
   "execution_count": null,
   "metadata": {},
   "outputs": [],
   "source": []
  }
 ],
 "metadata": {
  "kernelspec": {
   "display_name": "Python 3",
   "language": "python",
   "name": "python3"
  },
  "language_info": {
   "codemirror_mode": {
    "name": "ipython",
    "version": 3
   },
   "file_extension": ".py",
   "mimetype": "text/x-python",
   "name": "python",
   "nbconvert_exporter": "python",
   "pygments_lexer": "ipython3",
   "version": "3.7.3"
  }
 },
 "nbformat": 4,
 "nbformat_minor": 2
}
