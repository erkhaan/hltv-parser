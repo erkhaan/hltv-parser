{
 "cells": [
  {
   "cell_type": "code",
   "execution_count": 48,
   "metadata": {
    "scrolled": true
   },
   "outputs": [],
   "source": [
    "from selenium import webdriver\n",
    "from selenium.webdriver.common.keys import Keys\n",
    "from selenium.webdriver.common.by import By\n",
    "from selenium.common.exceptions import NoSuchElementException\n",
    "import pandas as pd\n",
    "import csv"
   ]
  },
  {
   "cell_type": "code",
   "execution_count": 49,
   "metadata": {},
   "outputs": [],
   "source": [
    "playerName = 'lollipop21k'\n",
    "teamID = ['7969']#'7718'\n",
    "#offset = '0'\n",
    "link_row = 1\n",
    "year = '2020'\n",
    "date_start = '2021-02-01'\n",
    "date_end = '2021-02-05'"
   ]
  },
  {
   "cell_type": "code",
   "execution_count": 50,
   "metadata": {},
   "outputs": [],
   "source": [
    "driver = webdriver.Chrome()\n",
    "matchesLinks = []"
   ]
  },
  {
   "cell_type": "code",
   "execution_count": 51,
   "metadata": {},
   "outputs": [],
   "source": [
    "driver.get('https://www.hltv.org')\n",
    "driver.implicitly_wait(15)\n",
    "accept = driver.find_element_by_link_text('Allow selection')\n",
    "accept.send_keys(Keys.RETURN)\n",
    "driver.implicitly_wait(0.5)"
   ]
  },
  {
   "cell_type": "code",
   "execution_count": 52,
   "metadata": {},
   "outputs": [],
   "source": [
    "teamLink = 'https://www.hltv.org/results?startDate='+date_start+'&endDate='+date_end\n",
    "#https://www.hltv.org/results?startDate=2021-02-05&endDate=2021-02-05\n",
    "#teamLink = 'https://www.hltv.org/results?offset='+offset+'&startDate=2016-01-01&endDate=2021-12-31&team='+team\n",
    "driver.get(teamLink)\n",
    "try:\n",
    "    driver.find_elements_by_xpath(\"//*[contains(text(), 'My Button')]\")\n",
    "    elem = driver.find_element_by_css_selector(\"div.results-all:not(.results-holder)\")\n",
    "    hrefs = elem.find_elements_by_class_name('a-reset')\n",
    "    for href in hrefs:\n",
    "        matchesLinks.append(href.get_attribute('href'))\n",
    "except NoSuchElementException:\n",
    "    print('not found')\n",
    "driver.close()"
   ]
  },
  {
   "cell_type": "code",
   "execution_count": 53,
   "metadata": {},
   "outputs": [
    {
     "name": "stdout",
     "output_type": "stream",
     "text": [
      "https://www.hltv.org/matches/2346334/nip-vs-big-blast-premier-spring-groups-2021\n",
      "https://www.hltv.org/matches/2346378/sprout-vs-dignitas-snow-sweet-snow-1\n",
      "https://www.hltv.org/matches/2346441/young-ninjas-vs-nemiga-european-development-championship-2\n",
      "https://www.hltv.org/matches/2346377/forze-vs-extremum-snow-sweet-snow-1\n",
      "https://www.hltv.org/matches/2346434/nemiga-vs-tpt-european-development-championship-2\n",
      "https://www.hltv.org/matches/2346433/saw-vs-young-ninjas-european-development-championship-2\n",
      "https://www.hltv.org/matches/2346376/izako-boars-vs-pact-snow-sweet-snow-1\n",
      "https://www.hltv.org/matches/2346476/jaguares-vs-santos-liga-dell-1-jan-21\n",
      "https://www.hltv.org/matches/2346475/paquet-vs-jaguares-liga-dell-1-jan-21\n",
      "https://www.hltv.org/matches/2346474/santos-vs-dreamhouse-liga-dell-1-jan-21\n",
      "https://www.hltv.org/matches/2346473/santos-vs-paquet-liga-dell-1-jan-21\n",
      "https://www.hltv.org/matches/2346472/jaguares-vs-dreamhouse-liga-dell-1-jan-21\n",
      "https://www.hltv.org/matches/2346329/og-vs-big-blast-premier-spring-groups-2021\n",
      "https://www.hltv.org/matches/2346328/astralis-vs-nip-blast-premier-spring-groups-2021\n",
      "https://www.hltv.org/matches/2346375/dignitas-vs-sangal-snow-sweet-snow-1\n",
      "https://www.hltv.org/matches/2346372/endpoint-vs-forze-snow-sweet-snow-1\n",
      "https://www.hltv.org/matches/2346373/sprout-vs-lyngby-vikings-snow-sweet-snow-1\n",
      "https://www.hltv.org/matches/2346374/extremum-vs-godsent-snow-sweet-snow-1\n",
      "https://www.hltv.org/matches/2346370/sinners-vs-pact-snow-sweet-snow-1\n",
      "https://www.hltv.org/matches/2346371/izako-boars-vs-ec-kyiv-snow-sweet-snow-1\n",
      "https://www.hltv.org/matches/2346408/recon-5-vs-third-impact-esea-premier-season-36-north-america\n",
      "https://www.hltv.org/matches/2346409/rebirth-vs-imperium-esea-premier-season-36-north-america\n",
      "https://www.hltv.org/matches/2346410/skdc-vs-extra-salt-esea-premier-season-36-north-america\n",
      "https://www.hltv.org/matches/2346412/watch-this-vs-mythic-esea-premier-season-36-north-america\n",
      "https://www.hltv.org/matches/2346432/alternate-attax-vs-ago-esea-premier-season-36-europe\n",
      "https://www.hltv.org/matches/2346431/anonymo-vs-sprout-esea-premier-season-36-europe\n",
      "https://www.hltv.org/matches/2346369/forze-vs-winstrike-snow-sweet-snow-1\n",
      "https://www.hltv.org/matches/2346368/ence-vs-endpoint-snow-sweet-snow-1\n",
      "https://www.hltv.org/matches/2346367/sangal-vs-lyngby-vikings-snow-sweet-snow-1\n",
      "https://www.hltv.org/matches/2346366/pact-vs-godsent-snow-sweet-snow-1\n",
      "https://www.hltv.org/matches/2346364/extremum-vs-izako-boars-snow-sweet-snow-1\n",
      "https://www.hltv.org/matches/2346365/dignitas-vs-ec-kyiv-snow-sweet-snow-1\n",
      "https://www.hltv.org/matches/2346363/sinners-vs-honoris-snow-sweet-snow-1\n",
      "https://www.hltv.org/matches/2346362/sprout-vs-gamerlegion-snow-sweet-snow-1\n",
      "https://www.hltv.org/matches/2346427/paradox-vs-animal-squad-esea-premier-season-36-australia\n",
      "https://www.hltv.org/matches/2346407/ggpr-vs-rise-esea-premier-season-36-north-america\n",
      "https://www.hltv.org/matches/2346406/bad-news-bears-vs-oceanus-esea-premier-season-36-north-america\n",
      "https://www.hltv.org/matches/2346404/secret-club-vs-big-chillin-esea-premier-season-36-north-america\n",
      "https://www.hltv.org/matches/2346405/eclipse-vs-extra-salt-esea-premier-season-36-north-america\n",
      "https://www.hltv.org/matches/2346425/winstrike-vs-apeks-esea-premier-season-36-europe\n",
      "https://www.hltv.org/matches/2346423/sprout-vs-nemiga-esea-premier-season-36-europe\n",
      "https://www.hltv.org/matches/2346424/anonymo-vs-ago-esea-premier-season-36-europe\n",
      "https://www.hltv.org/matches/2346360/ence-vs-lyngby-vikings-snow-sweet-snow-1\n",
      "https://www.hltv.org/matches/2346361/dignitas-vs-endpoint-snow-sweet-snow-1\n",
      "https://www.hltv.org/matches/2346428/faze-vs-og-steelseries-invitational-2021\n",
      "https://www.hltv.org/matches/2346358/extremum-vs-winstrike-snow-sweet-snow-1\n",
      "https://www.hltv.org/matches/2346359/forze-vs-ec-kyiv-snow-sweet-snow-1\n",
      "https://www.hltv.org/matches/2346430/faze-vs-nordavind-steelseries-invitational-2021\n",
      "https://www.hltv.org/matches/2346429/falkn-vs-og-steelseries-invitational-2021\n",
      "https://www.hltv.org/matches/2346357/sprout-vs-izako-boars-snow-sweet-snow-1\n",
      "https://www.hltv.org/matches/2346356/godsent-vs-sinners-snow-sweet-snow-1\n",
      "https://www.hltv.org/matches/2346421/vertex-vs-really-weird-esea-premier-season-36-australia\n",
      "https://www.hltv.org/matches/2346422/mako-vs-rot-esea-premier-season-36-australia\n",
      "https://www.hltv.org/matches/2346426/dynasty-vs-caught-off-guard-esea-premier-season-36-australia\n",
      "https://www.hltv.org/matches/2346354/sangal-vs-gamerlegion-snow-sweet-snow-1\n",
      "https://www.hltv.org/matches/2346355/pact-vs-honoris-snow-sweet-snow-1\n",
      "https://www.hltv.org/matches/2346352/sprout-vs-ec-kyiv-snow-sweet-snow-1\n",
      "https://www.hltv.org/matches/2346353/ence-vs-izako-boars-snow-sweet-snow-1\n",
      "https://www.hltv.org/matches/2346351/dignitas-vs-gamerlegion-snow-sweet-snow-1\n",
      "https://www.hltv.org/matches/2346350/extremum-vs-honoris-snow-sweet-snow-1\n",
      "https://www.hltv.org/matches/2346349/endpoint-vs-sangal-snow-sweet-snow-1\n",
      "https://www.hltv.org/matches/2346348/forze-vs-sinners-snow-sweet-snow-1\n",
      "https://www.hltv.org/matches/2346347/pact-vs-winstrike-snow-sweet-snow-1\n",
      "https://www.hltv.org/matches/2346346/godsent-vs-lyngby-vikings-snow-sweet-snow-1\n",
      "https://www.hltv.org/matches/2346419/bad-news-bears-vs-high-coast-esea-winter-cash-cup-4-north-america\n",
      "https://www.hltv.org/matches/2346420/oceanus-vs-recon-5-esea-winter-cash-cup-4-north-america\n",
      "https://www.hltv.org/matches/2346413/recon-5-vs-high-coast-esea-winter-cash-cup-4-north-america\n"
     ]
    }
   ],
   "source": [
    "filename = './data/matches_'+date_start+'-'+date_end+'.csv'\n",
    "with open(filename, 'a', newline='') as myfile:\n",
    "    wr = csv.writer(myfile)\n",
    "    if link_row == 1:\n",
    "        wr.writerow(['links'])\n",
    "    for link in matchesLinks:\n",
    "        wr.writerow([link])\n",
    "        print(link)"
   ]
  },
  {
   "cell_type": "code",
   "execution_count": 54,
   "metadata": {
    "scrolled": true
   },
   "outputs": [],
   "source": [
    "import os\n",
    "%run ./parse_clutches.ipynb"
   ]
  }
 ],
 "metadata": {
  "kernelspec": {
   "display_name": "Python 3",
   "language": "python",
   "name": "python3"
  },
  "language_info": {
   "codemirror_mode": {
    "name": "ipython",
    "version": 3
   },
   "file_extension": ".py",
   "mimetype": "text/x-python",
   "name": "python",
   "nbconvert_exporter": "python",
   "pygments_lexer": "ipython3",
   "version": "3.7.3"
  }
 },
 "nbformat": 4,
 "nbformat_minor": 2
}
