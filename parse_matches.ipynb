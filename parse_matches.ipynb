{
 "cells": [
  {
   "cell_type": "code",
   "execution_count": 74,
   "metadata": {
    "scrolled": true
   },
   "outputs": [],
   "source": [
    "from selenium import webdriver\n",
    "from selenium.webdriver.common.keys import Keys\n",
    "from selenium.webdriver.common.by import By\n",
    "from selenium.common.exceptions import NoSuchElementException\n",
    "import pandas as pd\n",
    "import csv\n",
    "import os"
   ]
  },
  {
   "cell_type": "code",
   "execution_count": 75,
   "metadata": {},
   "outputs": [],
   "source": [
    "#playerName = 'Goofy'\n",
    "playerID = '15428'\n",
    "#teamID = ['6902']\n",
    "dateStart = '2015-01-01'\n",
    "dateEnd   = '2021-12-31'"
   ]
  },
  {
   "cell_type": "markdown",
   "metadata": {},
   "source": [
    "#### Запуск chrome без загрузки изображений"
   ]
  },
  {
   "cell_type": "code",
   "execution_count": 76,
   "metadata": {},
   "outputs": [],
   "source": [
    "#disable images\n",
    "option = webdriver.ChromeOptions()\n",
    "chrome_prefs = {}\n",
    "option.experimental_options[\"prefs\"] = chrome_prefs\n",
    "chrome_prefs[\"profile.default_content_settings\"] = {\"images\": 2}\n",
    "chrome_prefs[\"profile.managed_default_content_settings\"] = {\"images\": 2}\n",
    "driver = webdriver.Chrome(options=option)"
   ]
  },
  {
   "cell_type": "code",
   "execution_count": 77,
   "metadata": {},
   "outputs": [],
   "source": [
    "#Внести в метод waitForAllowSelection() ибо юзается позже\n",
    "driver.get('https://www.hltv.org')\n",
    "driver.implicitly_wait(15)\n",
    "accept = driver.find_element_by_link_text('Allow selection')\n",
    "accept.send_keys(Keys.RETURN)\n",
    "driver.implicitly_wait(0.5)"
   ]
  },
  {
   "cell_type": "code",
   "execution_count": 78,
   "metadata": {},
   "outputs": [
    {
     "data": {
      "text/plain": [
       "'k = 0\\n\\nmatchesData = []\\nfor player in playerName:\\n    playerMatches = []    \\n    for team in teamID:\\n        x+=collectLinks(team)\\n    matchesData.append(playerMatches)'"
      ]
     },
     "execution_count": 78,
     "metadata": {},
     "output_type": "execute_result"
    }
   ],
   "source": [
    "'''k = 0\n",
    "\n",
    "matchesData = []\n",
    "for player in playerName:\n",
    "    playerMatches = []    \n",
    "    for team in teamID:\n",
    "        x+=collectLinks(team)\n",
    "    matchesData.append(playerMatches)'''"
   ]
  },
  {
   "cell_type": "code",
   "execution_count": 79,
   "metadata": {},
   "outputs": [],
   "source": [
    "#Внести ячейку ниже в функцию типа collectLinks(teamID) -> matchesLinks и сделать как в черновом варианте выше\n",
    "matchesLinks = []\n",
    "#for team in teamID:\n",
    "#for offset in ['0','100','200']:\n",
    "    #teamLink = 'https://www.hltv.org/results?offset='+offset+'&startDate='+dateStart+'&endDate='+dateEnd+'&'+'team='+team+'&content=highlights'\n",
    "    #teamLink = 'https://www.hltv.org/results?content=highlights&'+'player='+playerID+'&startDate='+dateStart+'&endDate='+dateEnd+'&offset='+offset\n",
    "teamLink = 'https://www.hltv.org/results?event=5671'\n",
    "driver.get(teamLink)\n",
    "try:\n",
    "    driver.find_elements_by_xpath(\"//*[contains(text(), 'My Button')]\")\n",
    "    elem = driver.find_element_by_css_selector(\"div.results-all:not(.results-holder)\")\n",
    "    hrefs = elem.find_elements_by_class_name('a-reset')\n",
    "    for href in hrefs:\n",
    "        matchesLinks.append(href.get_attribute('href'))\n",
    "except NoSuchElementException:\n",
    "    print('not found')"
   ]
  },
  {
   "cell_type": "code",
   "execution_count": 80,
   "metadata": {},
   "outputs": [],
   "source": [
    "#filename = './data/matches_'+playerName + '.csv'\n",
    "filename = './data/matches_'+'iem_day1' + '.csv'\n",
    "with open(filename, 'a', newline='') as myfile:\n",
    "    wr = csv.writer(myfile)\n",
    "    wr.writerow(['links'])\n",
    "    for link in matchesLinks:\n",
    "        wr.writerow([link])"
   ]
  },
  {
   "cell_type": "code",
   "execution_count": 81,
   "metadata": {},
   "outputs": [
    {
     "data": {
      "text/plain": [
       "'for player in playerList:\\n    waitForAllowSelection()\\n    playerName = player\\n    %run ./parse_highlights.ipynb\\ndriver.close()'"
      ]
     },
     "execution_count": 81,
     "metadata": {},
     "output_type": "execute_result"
    }
   ],
   "source": [
    "'''for player in playerList:\n",
    "    waitForAllowSelection()\n",
    "    playerName = player\n",
    "    %run ./parse_highlights.ipynb\n",
    "driver.close()'''"
   ]
  },
  {
   "cell_type": "code",
   "execution_count": 82,
   "metadata": {},
   "outputs": [
    {
     "name": "stdout",
     "output_type": "stream",
     "text": [
      "10\n"
     ]
    }
   ],
   "source": [
    "import os\n",
    "# научиться запускать другой ноутбук с входным параметром, в данном случае это будет playerName\n",
    "%run ./parse_highlights.ipynb\n",
    "driver.close()"
   ]
  },
  {
   "cell_type": "code",
   "execution_count": null,
   "metadata": {},
   "outputs": [],
   "source": []
  }
 ],
 "metadata": {
  "kernelspec": {
   "display_name": "Python 3",
   "language": "python",
   "name": "python3"
  },
  "language_info": {
   "codemirror_mode": {
    "name": "ipython",
    "version": 3
   },
   "file_extension": ".py",
   "mimetype": "text/x-python",
   "name": "python",
   "nbconvert_exporter": "python",
   "pygments_lexer": "ipython3",
   "version": "3.7.3"
  }
 },
 "nbformat": 4,
 "nbformat_minor": 2
}
